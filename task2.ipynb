{
 "cells": [
  {
   "cell_type": "code",
   "execution_count": 4,
   "metadata": {},
   "outputs": [
    {
     "name": "stdout",
     "output_type": "stream",
     "text": [
      "Enter a number:4\n",
      "4 is even\n",
      "\n",
      "Enter the divisible:60\n",
      "Enter the divisor:7\n",
      "60 is not evenly divided by 7\n",
      "\n"
     ]
    }
   ],
   "source": [
    "n=int(input(\"Enter a number:\"))\n",
    "\n",
    "if (n%2==0):\n",
    "    print(str(n)+\" is even\\n\")\n",
    "else:\n",
    "    print(str(n)+\" is odd\\n\")\n",
    "    \n",
    "a=int(input(\"Enter the divisible:\"))\n",
    "b=int(input(\"Enter the divisor:\"))\n",
    "if (a%b==0):\n",
    "    print(str(a)+\" is evenly divided by \"+ str(b)+\"\\n\")\n",
    "else:\n",
    "    print(str(a)+\" is not evenly divided by \"+ str(b)+\"\\n\")\n",
    "    \n",
    "    \n"
   ]
  },
  {
   "cell_type": "code",
   "execution_count": null,
   "metadata": {},
   "outputs": [],
   "source": []
  }
 ],
 "metadata": {
  "kernelspec": {
   "display_name": "Python 3",
   "language": "python",
   "name": "python3"
  },
  "language_info": {
   "codemirror_mode": {
    "name": "ipython",
    "version": 3
   },
   "file_extension": ".py",
   "mimetype": "text/x-python",
   "name": "python",
   "nbconvert_exporter": "python",
   "pygments_lexer": "ipython3",
   "version": "3.7.3"
  }
 },
 "nbformat": 4,
 "nbformat_minor": 2
}
