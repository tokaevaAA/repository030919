{
 "cells": [
  {
   "cell_type": "code",
   "execution_count": 2,
   "metadata": {},
   "outputs": [
    {
     "data": {
      "text/plain": [
       "array([[0, 0, 0, ..., 0, 0, 0],\n",
       "       [0, 0, 0, ..., 0, 0, 0],\n",
       "       [0, 0, 0, ..., 0, 0, 0],\n",
       "       ...,\n",
       "       [0, 0, 0, ..., 0, 0, 0],\n",
       "       [0, 0, 0, ..., 0, 0, 0],\n",
       "       [0, 0, 0, ..., 0, 0, 0]])"
      ]
     },
     "execution_count": 2,
     "metadata": {},
     "output_type": "execute_result"
    }
   ],
   "source": [
    "import numpy as np\n",
    "from sklearn.datasets import fetch_20newsgroups\n",
    "from sklearn.feature_extraction.text import CountVectorizer\n",
    "from sklearn.feature_extraction.stop_words import ENGLISH_STOP_WORDS\n",
    "\n",
    "\n",
    "\n",
    "newsgroups_train = fetch_20newsgroups(subset='train', remove=('headers', 'footers', 'quotes'))\n",
    "vectorizer = CountVectorizer(lowercase=True, stop_words=ENGLISH_STOP_WORDS,analyzer='word', binary=True)\n",
    "X_train = vectorizer.fit_transform(newsgroups_train.data)\n",
    "\n",
    "X_train.toarray()\n",
    "# X_train.shape #(11314, 101322)"
   ]
  },
  {
   "cell_type": "code",
   "execution_count": 5,
   "metadata": {},
   "outputs": [],
   "source": [
    "from tqdm import tqdm\n",
    "def lda(n_dk,n_kw,n_k,z,docs,words,alpha,beta,NITER):\n",
    "    for tek_iter in tqdm(range(NITER)):\n",
    "        for i in range(N):\n",
    "            n_dk[docs[i],z[i]]-=1\n",
    "            n_kw[z[i],words[i]]-=1\n",
    "            n_k[z[i]]-=1\n",
    "            p = (n_dk[docs[i], :] + alpha) * (n_kw[:, words[i]] + beta[words[i]]) / (n_k + beta.sum())\n",
    "            z[i] = np.random.choice(np.arange(K), p=p / p.sum())\n",
    "            \n",
    "        \n",
    "            n_dk[docs[i],z[i]]+=1\n",
    "            n_kw[z[i],words[i]]+=1\n",
    "            n_k[z[i]]+=1\n",
    "    return  n_dk, n_kw,n_k,z"
   ]
  },
  {
   "cell_type": "code",
   "execution_count": 3,
   "metadata": {},
   "outputs": [
    {
     "name": "stdout",
     "output_type": "stream",
     "text": [
      "[2. 2. 2. 2. 2. 2. 2. 2. 2. 2.]\n"
     ]
    }
   ],
   "source": [
    "import numpy as np\n",
    "M=11314 #amount of texts\n",
    "W=101322 #amount of different words\n",
    "N=755809#total amount of words in the corpus\n",
    "K=20 #amount of tags\n",
    "NITER=30\n",
    "\n",
    "\n",
    "alpha=2*np.ones(K)\n",
    "beta=2*np.ones(N)\n",
    "\n",
    "n_dk=np.zeros(M*K).reshape(M,K) #amount of words in document d assigned to tag k\n",
    "n_kw=np.zeros(K*W).reshape(K,W)\n",
    "n_k=np.zeros(K) #total amount of words assigned to tag k\n",
    "\n",
    "X=X_train.toarray()\n",
    "docs,words=X.nonzero() #print(len(docs)) #it is N=755809\n",
    "z=[np.random.choice(K) for i in range(N)] #randomly assign tags to words\n",
    "for doc, word, cur_z in zip(docs, words, z):\n",
    "        n_dk[doc, cur_z] += 1\n",
    "        n_kw[cur_z, word] += 1\n",
    "        n_k[cur_z] += 1\n",
    "print(alpha[0:10])"
   ]
  },
  {
   "cell_type": "code",
   "execution_count": 6,
   "metadata": {},
   "outputs": [
    {
     "name": "stderr",
     "output_type": "stream",
     "text": [
      "100%|██████████| 30/30 [25:05:20<00:00, 1138.43s/it]    \n"
     ]
    }
   ],
   "source": [
    "n_dk,n_kw,n_k,z=lda(n_dk,n_kw,n_k,z,docs,words,alpha,beta,NITER)\n",
    "#print(n_kw)"
   ]
  },
  {
   "cell_type": "code",
   "execution_count": 7,
   "metadata": {},
   "outputs": [
    {
     "name": "stdout",
     "output_type": "stream",
     "text": [
      "tag= 0 68070 ear infrequent bt batch colours 1980 women _k asshole \n",
      "\n",
      "tag= 1 like just don know think does people time use good \n",
      "\n",
      "tag= 2 zenith geez parameters cii mercury swapped semitic ucc skates seizures \n",
      "\n",
      "tag= 3 r1 alexia kkeller winmarks lame confuse devout forsale doublespace appetite \n",
      "\n",
      "tag= 4 nickname 2l scrolling breath cutter ovg moh wtc d4 dl \n",
      "\n",
      "tag= 5 prelude steady funniest similarly 130mph shameful safer thanx wheel ram \n",
      "\n",
      "tag= 6 contradiction sails drug docs lors libtermcap pov cutting design cuts \n",
      "\n",
      "tag= 7 negative dialog says nai vpic rosa checker nazi jerry technically \n",
      "\n",
      "tag= 8 s4 er undefined whats uranium course udel timmons curiosities fj \n",
      "\n",
      "tag= 9 told moto response feature wa amen wether effective ysebaert 8mb \n",
      "\n",
      "tag= 10 wonder mpeg nz knows vf comparing reign seldom switches makes \n",
      "\n",
      "tag= 11 annoyed stefan csmes pl combo offers choke designs dated tonite \n",
      "\n",
      "tag= 12 r_ 99m j6 1o od w8 y8 9s rx b6 \n",
      "\n",
      "tag= 13 jungle vegetarian shopping 7u xwindows notepad gld rotation eisa hr \n",
      "\n",
      "tag= 14 glass smear gospels nazis todays npr definitions infinity ke steve \n",
      "\n",
      "tag= 15 toshiba stomach optimistic swap powerplay follower ao curvature went unopened \n",
      "\n",
      "tag= 16 fan row mickey captain cds vpic magstripe perish unbelievably knob \n",
      "\n",
      "tag= 17 forget rush sub titled sy soldered parked content managing 1x9 \n",
      "\n",
      "tag= 18 shrink holland everytime jumps smartdrive toyota mustang upper ww 7w \n",
      "\n",
      "tag= 19 began bronx clement 10k cologne usefull teel automatically substances sanguine \n",
      "\n"
     ]
    }
   ],
   "source": [
    "n_kw_sorted=np.argsort(n_kw, axis=1)\n",
    "#print(vectorizer.vocabulary_.get('car'))\n",
    "#print(type(vectorizer.vocabulary_))\n",
    "\n",
    "my_dict={}\n",
    "for item in vectorizer.vocabulary_:\n",
    "    my_dict[vectorizer.vocabulary_[item]]=item\n",
    "\n",
    "for k in range(K):\n",
    "    print(\"tag=\",k,end=\" \")\n",
    "    for j in range(10):\n",
    "        print(my_dict[n_kw_sorted[k,W-1-j]],end=\" \")\n",
    "    print(\"\\n\")"
   ]
  },
  {
   "cell_type": "code",
   "execution_count": 8,
   "metadata": {},
   "outputs": [
    {
     "name": "stdout",
     "output_type": "stream",
     "text": [
      "Topic 0:\t8v\tbxn\tdk\thm\timmaculate\tns\trusty\tsells\twing\txi\n",
      "Topic 1:\t1d9\t3t\t9f9\ta7\tax\tchunks\tey\tqk\tvc\twt\n",
      "Topic 2:\t030\te1\tiq\tmf0\tmp\tn6\trunner\ts6\tstudent\tvy\n",
      "Topic 3:\t0_\t2i\t6f\tbz\tcd\tether\tjoke\tposts\tprocessing\tstealth\n",
      "Topic 4:\t5e\t6c\tdv\tdy\te1\tec\tf9d\tmw\tqq\tt5\n",
      "Topic 5:\t6j\t70\tcalstate\tdevils\tei\tf0\tkt\tl2\ttigers\twr\n",
      "Topic 6:\t11th\t1fpl\t4t\t5f\ta865\tgiz\thitters\tio\tm9\ttnx\n",
      "Topic 7:\t13s\t1t\tei0l\tjays\tk8\tkp\tm0\tm6\tmovement\tz4\n",
      "Topic 8:\t0l\t0t\t1u\tck\tdy\tg8\tgk\tglover\tgt\tm6\n",
      "Topic 9:\tbu\tgt\tgy\thartford\tpd\tpnei\tstarter\tterrorists\tuy\twatchman\n",
      "Topic 10:\t1z6e1t\t9d\taviv\tcal\tcontacts\tdrinking\tkn\tnetnews\tprocessor\treplies\n",
      "Topic 11:\tdoes\tdon\tgood\tjust\tknow\tlike\tpeople\tthink\ttime\tuse\n",
      "Topic 12:\t0t\t2di\tau\tcz\tdial\tladies\tmarlins\tmdi\totc\tuj\n",
      "Topic 13:\t5g\ta86\tbu\tci\tfu\tgu\tht\tnq\tpg\tseperately\n",
      "Topic 14:\t2f\t6g\t6v\talbicans\tb8\tcz\tgk\tmm\ttiger\tw8\n",
      "Topic 15:\t3h\t6l\t9e\tcu\ti5\tjg\tml\tr6\tshrink\tsteel\n",
      "Topic 16:\t5u\t7t\te0\tfictional\tgiz\tgn\tgx\tkhz\tm1\twa\n",
      "Topic 17:\t0i\t4b\tdig\tf0\tg9p\thm\tm2\tpl\tqr_\tqv\n",
      "Topic 18:\tc4\tmd\tmv\tpointer\trb\trs232\tt9\ttom\ttx\twa\n",
      "Topic 19:\t0f\t0tbxn\t3t\tbhjn\td9\tjz\tmtm\ttg\tv9fq\tw1\n"
     ]
    }
   ],
   "source": [
    "top_words = np.argsort(n_kw, axis=1)[:, -10:]\n",
    "\n",
    "for topic in range(20):\n",
    "    doc = np.zeros((1, X_train.shape[1]))\n",
    "    for word in top_words[topic]:\n",
    "        doc[0, word] = 1\n",
    "    print('Topic {}:\\t{}'.format(topic, '\\t'.join(vectorizer.inverse_transform(doc)[0])))"
   ]
  },
  {
   "cell_type": "code",
   "execution_count": null,
   "metadata": {},
   "outputs": [],
   "source": []
  }
 ],
 "metadata": {
  "kernelspec": {
   "display_name": "Python 3",
   "language": "python",
   "name": "python3"
  },
  "language_info": {
   "codemirror_mode": {
    "name": "ipython",
    "version": 3
   },
   "file_extension": ".py",
   "mimetype": "text/x-python",
   "name": "python",
   "nbconvert_exporter": "python",
   "pygments_lexer": "ipython3",
   "version": "3.7.3"
  }
 },
 "nbformat": 4,
 "nbformat_minor": 2
}
