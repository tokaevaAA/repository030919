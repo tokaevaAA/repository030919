{
 "cells": [
  {
   "cell_type": "code",
   "execution_count": 10,
   "metadata": {},
   "outputs": [
    {
     "name": "stdout",
     "output_type": "stream",
     "text": [
      "(11314, 10299)\n"
     ]
    }
   ],
   "source": [
    "import numpy as np\n",
    "from sklearn.datasets import fetch_20newsgroups\n",
    "from sklearn.feature_extraction.text import CountVectorizer\n",
    "from sklearn.feature_extraction.stop_words import ENGLISH_STOP_WORDS\n",
    "\n",
    "\n",
    "\n",
    "newsgroups_train = fetch_20newsgroups(subset='train', remove=('headers', 'footers', 'quotes'))\n",
    "vectorizer = CountVectorizer(lowercase=True, stop_words=ENGLISH_STOP_WORDS,analyzer='word',\n",
    "                             binary=True, min_df=10, max_df=0.04)\n",
    "X_train = vectorizer.fit_transform(newsgroups_train.data)\n",
    "\n",
    "X_train.toarray()\n",
    "print( X_train.shape) #(11314, 10299)"
   ]
  },
  {
   "cell_type": "code",
   "execution_count": 11,
   "metadata": {},
   "outputs": [],
   "source": [
    "from tqdm import tqdm\n",
    "def lda(n_dk,n_kw,n_k,z,docs,words,alpha,beta,NITER):\n",
    "    for tek_iter in tqdm(range(NITER)):\n",
    "        for i in range(N):\n",
    "            n_dk[docs[i],z[i]]-=1\n",
    "            n_kw[z[i],words[i]]-=1\n",
    "            n_k[z[i]]-=1\n",
    "            p = (n_dk[docs[i], :] + alpha) * (n_kw[:, words[i]] + beta[words[i]]) / (n_k + beta.sum())\n",
    "            z[i] = np.random.choice(np.arange(K), p=p / p.sum())\n",
    "            \n",
    "        \n",
    "            n_dk[docs[i],z[i]]+=1\n",
    "            n_kw[z[i],words[i]]+=1\n",
    "            n_k[z[i]]+=1\n",
    "    return  n_dk, n_kw,n_k,z"
   ]
  },
  {
   "cell_type": "code",
   "execution_count": 13,
   "metadata": {},
   "outputs": [
    {
     "name": "stdout",
     "output_type": "stream",
     "text": [
      "480590\n",
      "[1. 1. 1. 1. 1. 1. 1. 1. 1. 1.]\n"
     ]
    }
   ],
   "source": [
    "import numpy as np\n",
    "M=11314 #amount of texts\n",
    "W=10299 #amount of different words\n",
    "N=480590 #total amount of words in the corpus\n",
    "K=20 #amount of tags\n",
    "NITER=60\n",
    "\n",
    "\n",
    "alpha=np.ones(K)\n",
    "beta=np.ones(N)\n",
    "\n",
    "n_dk=np.zeros(M*K).reshape(M,K) #amount of words in document d assigned to tag k\n",
    "n_kw=np.zeros(K*W).reshape(K,W)\n",
    "n_k=np.zeros(K) #total amount of words assigned to tag k\n",
    "\n",
    "X=X_train.toarray()\n",
    "docs,words=X.nonzero() \n",
    "print(len(docs)) #it is N=480590\n",
    "z=[np.random.choice(K) for i in range(N)] #randomly assign tags to words\n",
    "for doc, word, cur_z in zip(docs, words, z):\n",
    "        n_dk[doc, cur_z] += 1\n",
    "        n_kw[cur_z, word] += 1\n",
    "        n_k[cur_z] += 1\n",
    "print(alpha[0:10])"
   ]
  },
  {
   "cell_type": "code",
   "execution_count": 14,
   "metadata": {},
   "outputs": [
    {
     "name": "stderr",
     "output_type": "stream",
     "text": [
      "100%|██████████| 60/60 [2:50:30<00:00, 143.40s/it]  \n"
     ]
    }
   ],
   "source": [
    "n_dk,n_kw,n_k,z=lda(n_dk,n_kw,n_k,z,docs,words,alpha,beta,NITER)\n",
    "#print(n_kw)"
   ]
  },
  {
   "cell_type": "code",
   "execution_count": 15,
   "metadata": {},
   "outputs": [
    {
     "name": "stdout",
     "output_type": "stream",
     "text": [
      "tag= 0 recognize presently security wheel transactions default beast moog gif formats \n",
      "\n",
      "tag= 1 mogilny straightforward drivers interpretation chambers base scott files conner wit \n",
      "\n",
      "tag= 2 bugs maine newsletter known drafted motto cool relative cruel card \n",
      "\n",
      "tag= 3 general small computer left file 16 works large public note \n",
      "\n",
      "tag= 4 scanners chicago liable peculiar unfortunate exhibit satanic eagles poster grad \n",
      "\n",
      "tag= 5 news reconsider hi cray treating 33mhz diskette hitters russia ama \n",
      "\n",
      "tag= 6 thanx rode mild macintosh micro batch favorite obvious sand championship \n",
      "\n",
      "tag= 7 novell switched resistance wright effective transaction caused height texture trades \n",
      "\n",
      "tag= 8 wanna ron dash regarding diamond wires bunch tvtwm stats bug \n",
      "\n",
      "tag= 9 subaru logical hardware koufax greetings compatible victim considerable yeah champs \n",
      "\n",
      "tag= 10 acronym wrapped iowa wonder allocated slot develop engaging plugged refered \n",
      "\n",
      "tag= 11 worried nations license advertise signature pitching cheap cl jefferson brian \n",
      "\n",
      "tag= 12 son technique adapters enormously philly japan bike enforced freeway openly \n",
      "\n",
      "tag= 13 tempest munich paint kuwait football palestinian chest realize ics cheer \n",
      "\n",
      "tag= 14 truecolor subaru rex vinyl ridiculous clear media converter realizes merchandise \n",
      "\n",
      "tag= 15 centris business offensive tall prohibits repository keyboards breakdown promoting pat \n",
      "\n",
      "tag= 16 coded beauty ditto delayed walks pov demonstrating epson room sf \n",
      "\n",
      "tag= 17 driveway invent pursuing corrections pathetic dodgers tan housing stand palette \n",
      "\n",
      "tag= 18 pounds diagnosis jay updated adapted n3jxp toyota development later diego \n",
      "\n",
      "tag= 19 proofs unfortunately hardware therapy cbr classic elias highest treated aaa \n",
      "\n"
     ]
    }
   ],
   "source": [
    "n_kw_sorted=np.argsort(n_kw, axis=1)\n",
    "#print(vectorizer.vocabulary_.get('car'))\n",
    "#print(type(vectorizer.vocabulary_))\n",
    "\n",
    "my_dict={}\n",
    "for item in vectorizer.vocabulary_:\n",
    "    my_dict[vectorizer.vocabulary_[item]]=item\n",
    "\n",
    "for k in range(K):\n",
    "    print(\"tag=\",k,end=\" \")\n",
    "    for j in range(10):\n",
    "        print(my_dict[n_kw_sorted[k,W-1-j]],end=\" \")\n",
    "    print(\"\\n\")"
   ]
  },
  {
   "cell_type": "code",
   "execution_count": null,
   "metadata": {},
   "outputs": [],
   "source": []
  }
 ],
 "metadata": {
  "kernelspec": {
   "display_name": "Python 3",
   "language": "python",
   "name": "python3"
  },
  "language_info": {
   "codemirror_mode": {
    "name": "ipython",
    "version": 3
   },
   "file_extension": ".py",
   "mimetype": "text/x-python",
   "name": "python",
   "nbconvert_exporter": "python",
   "pygments_lexer": "ipython3",
   "version": "3.7.3"
  }
 },
 "nbformat": 4,
 "nbformat_minor": 2
}
