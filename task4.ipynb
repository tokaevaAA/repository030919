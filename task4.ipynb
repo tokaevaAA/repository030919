{
 "cells": [
  {
   "cell_type": "code",
   "execution_count": 6,
   "metadata": {},
   "outputs": [
    {
     "name": "stdout",
     "output_type": "stream",
     "text": [
      "enter a number:56\n",
      "The divisors are: 1 2 4 7 8 14 28 56 "
     ]
    }
   ],
   "source": [
    "n=int(input(\"enter a number:\"))\n",
    "mas=[]\n",
    "for i in range(1,n+1,1):\n",
    "    if (n%i==0):\n",
    "        mas.append(i)\n",
    "print(\"The divisors are:\",end=\" \")\n",
    "for j in range(0,len(mas),1):\n",
    "    print(mas[j],end=\" \")\n",
    "    "
   ]
  },
  {
   "cell_type": "code",
   "execution_count": null,
   "metadata": {},
   "outputs": [],
   "source": []
  }
 ],
 "metadata": {
  "kernelspec": {
   "display_name": "Python 3",
   "language": "python",
   "name": "python3"
  },
  "language_info": {
   "codemirror_mode": {
    "name": "ipython",
    "version": 3
   },
   "file_extension": ".py",
   "mimetype": "text/x-python",
   "name": "python",
   "nbconvert_exporter": "python",
   "pygments_lexer": "ipython3",
   "version": "3.7.3"
  }
 },
 "nbformat": 4,
 "nbformat_minor": 2
}
