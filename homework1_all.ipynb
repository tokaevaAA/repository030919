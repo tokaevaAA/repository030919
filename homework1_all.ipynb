{
 "cells": [
  {
   "cell_type": "code",
   "execution_count": 1,
   "metadata": {},
   "outputs": [
    {
     "name": "stdout",
     "output_type": "stream",
     "text": [
      "Enter your name:Alexandra\n",
      "Enter your age:19\n",
      "Enter a number:5\n",
      "Hello Alexandra ,  you will be 100 years old in  2100 \n",
      "\n",
      "Hello Alexandra ,  you will be 100 years old in  2100 \n",
      "\n",
      "Hello Alexandra ,  you will be 100 years old in  2100 \n",
      "\n",
      "Hello Alexandra ,  you will be 100 years old in  2100 \n",
      "\n",
      "Hello Alexandra ,  you will be 100 years old in  2100 \n",
      "\n"
     ]
    }
   ],
   "source": [
    "#task1\n",
    "name=input(\"Enter your name:\")\n",
    "age=int(input(\"Enter your age:\"))\n",
    "n=int(input(\"Enter a number:\"))\n",
    "\n",
    "time= 2019+(100-age)\n",
    "\n",
    "\n",
    "for i in range(0,n,1):\n",
    "    print(\"Hello\", name, \",\", \" you will be 100 years old in \", time, \"\\n\")\n",
    "    \n",
    "\n"
   ]
  },
  {
   "cell_type": "code",
   "execution_count": 1,
   "metadata": {},
   "outputs": [
    {
     "name": "stdout",
     "output_type": "stream",
     "text": [
      "Enter a number:5\n",
      "5 is odd\n",
      "\n",
      "Enter the divisible:70\n",
      "Enter the divisor:3\n",
      "70 is not evenly divided by 3\n",
      "\n"
     ]
    }
   ],
   "source": [
    "#task2\n",
    "n=int(input(\"Enter a number:\"))\n",
    "\n",
    "if (n%2==0):\n",
    "    print(str(n)+\" is even\\n\")\n",
    "else:\n",
    "    print(str(n)+\" is odd\\n\")\n",
    "    \n",
    "a=int(input(\"Enter the divisible:\"))\n",
    "b=int(input(\"Enter the divisor:\"))\n",
    "if (a%b==0):\n",
    "    print(str(a)+\" is evenly divided by \"+ str(b)+\"\\n\")\n",
    "else:\n",
    "    print(str(a)+\" is not evenly divided by \"+ str(b)+\"\\n\")\n",
    "    \n",
    "    "
   ]
  },
  {
   "cell_type": "code",
   "execution_count": 2,
   "metadata": {},
   "outputs": [
    {
     "name": "stdout",
     "output_type": "stream",
     "text": [
      "Enter a number:7\n",
      "1 1 2 3 5 "
     ]
    }
   ],
   "source": [
    "#task3\n",
    "a=int(input(\"Enter a number:\"))\n",
    "mas1 = [1, 1, 2, 3, 5, 8, 13, 21, 34, 55, 89]\n",
    "mas2=[]\n",
    "for i in range(0,len(mas1),1):\n",
    "    if(mas1[i]<a):\n",
    "        mas2.append(mas1[i])\n",
    "for j in range(0,len(mas2),1):\n",
    "    print(mas2[j],end=' ')"
   ]
  },
  {
   "cell_type": "code",
   "execution_count": 3,
   "metadata": {},
   "outputs": [
    {
     "name": "stdout",
     "output_type": "stream",
     "text": [
      "enter a number:56\n",
      "The divisors are: 1 2 4 7 8 14 28 56 "
     ]
    }
   ],
   "source": [
    "#task4\n",
    "n=int(input(\"enter a number:\"))\n",
    "mas=[]\n",
    "for i in range(1,n+1,1):\n",
    "    if (n%i==0):\n",
    "        mas.append(i)\n",
    "print(\"The divisors are:\",end=\" \")\n",
    "for j in range(0,len(mas),1):\n",
    "    print(mas[j],end=\" \")"
   ]
  },
  {
   "cell_type": "code",
   "execution_count": 4,
   "metadata": {},
   "outputs": [
    {
     "name": "stdout",
     "output_type": "stream",
     "text": [
      "a= 10 2 1 7 9 3 7 7 3 6 \n",
      "b= 5 5 5 8 2 3 8 9 10 \n",
      "otv= 10 2 9 3 "
     ]
    }
   ],
   "source": [
    "#task5\n",
    "import random\n",
    "n1=random.randint(5,10)\n",
    "n2=random.randint(7,12)\n",
    "a=[random.randint(1,10) for i in range(n1)]\n",
    "b=[random.randint(1,10) for i in range(n2)]\n",
    "\n",
    "print(\"a=\",end=\" \")\n",
    "for i in range(0,len(a),1):\n",
    "    print(a[i],end=' ')\n",
    "print()\n",
    "print(\"b=\",end=\" \")\n",
    "for i in range(0,len(b),1):\n",
    "    print(b[i],end=' ')\n",
    "print()\n",
    "\n",
    "otv=[]\n",
    "for elem in a:\n",
    "    if((elem in b) and not( elem in otv)):\n",
    "        otv.append(elem)\n",
    "print(\"otv=\",end=\" \")\n",
    "for i in range(0,len(otv),1):\n",
    "    print(otv[i],end=' ')\n",
    "\n"
   ]
  },
  {
   "cell_type": "code",
   "execution_count": 1,
   "metadata": {},
   "outputs": [
    {
     "name": "stdout",
     "output_type": "stream",
     "text": [
      "Enter a string:vov\n",
      "vov is a palindrome\n"
     ]
    }
   ],
   "source": [
    "#task6\n",
    "x=input(\"Enter a string:\")\n",
    "otv=1\n",
    "for i in range(0,len(x)//2,1):\n",
    "    if(x[i]!=x[len(x)-1-i]):\n",
    "        otv=0\n",
    "        break\n",
    "\n",
    "if(otv==0):\n",
    "    print(x,\"is not a palindrome\")\n",
    "else:\n",
    "    print(x,\"is a palindrome\")\n"
   ]
  },
  {
   "cell_type": "code",
   "execution_count": 3,
   "metadata": {},
   "outputs": [
    {
     "name": "stdout",
     "output_type": "stream",
     "text": [
      "4 16 36 64 100 "
     ]
    }
   ],
   "source": [
    "#task7\n",
    "a = [1, 4, 9, 16, 25, 36, 49, 64, 81, 100]\n",
    "b=[elem for elem in a if elem%2==0]\n",
    "for i in range(0,len(b),1):\n",
    "    print(b[i],end=' ')"
   ]
  },
  {
   "cell_type": "code",
   "execution_count": 1,
   "metadata": {},
   "outputs": [
    {
     "name": "stdout",
     "output_type": "stream",
     "text": [
      "First player round1:rock\n",
      "Second player round1:rod\n",
      "invalid input, try again\n",
      "Second player round1:rock\n",
      "First player round2:rock\n",
      "Second player round2:scissors\n",
      "a=  rock ; b=  scissors\n",
      "the winner is 1: rock > scissors\n"
     ]
    }
   ],
   "source": [
    "#task8\n",
    "def compare(a,b):\n",
    "    if (a==\"rock\"):\n",
    "        if (b==\"scissors\"):\n",
    "            print(\"the winner is 1: rock > scissors\")\n",
    "        else:\n",
    "            print(\"the winner is 2: rock < paper\")\n",
    "    elif (a==\"paper\"):\n",
    "        if (b==\"scissors\"):\n",
    "            print(\"the winner is 2: paper < scissors\")\n",
    "        else:\n",
    "            print(\"the winner is 1:paper > rock\")\n",
    "    elif (a==\"scissors\"):\n",
    "        if (b==\"rock\"):\n",
    "            print(\"the winner is 2: scissors < rock\")\n",
    "        else:\n",
    "            print(\"the winner is 1: scissors >paper \")\n",
    "    \n",
    "def reada(i):\n",
    "    a=input(\"First player round\"+str(i)+\":\")\n",
    "    while not(a in mas):\n",
    "        print(\"invalid input, try again\");\n",
    "        a=input(\"First player round\"+str(i)+\":\")\n",
    "    return a\n",
    "\n",
    "def readb(i):\n",
    "    b=input(\"Second player round\"+str(i)+\":\")\n",
    "    while not(b in mas):\n",
    "        print(\"invalid input, try again\");\n",
    "        b=input(\"Second player round\"+str(i)+\":\")\n",
    "    return b\n",
    "\n",
    "\n",
    "i=1;\n",
    "mas=[\"rock\",\"paper\",\"scissors\"]\n",
    "\n",
    "a=reada(i)\n",
    "b=readb(i)\n",
    "while(a==b):\n",
    "    i=i+1\n",
    "    a=reada(i)\n",
    "    b=readb(i)\n",
    "\n",
    "print(\"a= \",a,\"; b= \",b)\n",
    "compare(a,b)"
   ]
  },
  {
   "cell_type": "code",
   "execution_count": 1,
   "metadata": {},
   "outputs": [
    {
     "name": "stdout",
     "output_type": "stream",
     "text": [
      " Enter your guess:5\n",
      "Too big!\n",
      "Enter your guess:2\n",
      "Too small!\n",
      "Enter your guess:3\n",
      "Too small!\n",
      "Enter your guess:4\n",
      "Yes, my number was 4 , you used 4 tries\n"
     ]
    }
   ],
   "source": [
    "#task9\n",
    "import random\n",
    "a = random.randint(1,10)\n",
    "i=1\n",
    "tek=int(input(\" Enter your guess:\"))\n",
    "while(tek != a):\n",
    "    if (tek > a):\n",
    "        print(\"Too big!\")\n",
    "    else:\n",
    "        print(\"Too small!\")\n",
    "    i=i+1\n",
    "    tek=int(input(\"Enter your guess:\"))\n",
    "print(\"Yes, my number was\",a,\", you used\",i,\"tries\")"
   ]
  },
  {
   "cell_type": "code",
   "execution_count": 2,
   "metadata": {},
   "outputs": [
    {
     "name": "stdout",
     "output_type": "stream",
     "text": [
      "Enter the amount of the fibonacci numbers you want: 7\n",
      "The 7 th fibonacci is 13\n"
     ]
    }
   ],
   "source": [
    "#task13\n",
    "def fibonacci(n):\n",
    "    if (n==1 or n==2):\n",
    "        return 1\n",
    "    else:\n",
    "        return fibonacci(n-1) + fibonacci(n-2)\n",
    "    \n",
    "n=int(input(\"Enter the amount of the fibonacci numbers you want: \"))\n",
    "otv=fibonacci(n)\n",
    "print(\"The\",n,\"th fibonacci is\",otv)"
   ]
  },
  {
   "cell_type": "code",
   "execution_count": null,
   "metadata": {},
   "outputs": [],
   "source": []
  }
 ],
 "metadata": {
  "kernelspec": {
   "display_name": "Python 3",
   "language": "python",
   "name": "python3"
  },
  "language_info": {
   "codemirror_mode": {
    "name": "ipython",
    "version": 3
   },
   "file_extension": ".py",
   "mimetype": "text/x-python",
   "name": "python",
   "nbconvert_exporter": "python",
   "pygments_lexer": "ipython3",
   "version": "3.7.3"
  }
 },
 "nbformat": 4,
 "nbformat_minor": 2
}
