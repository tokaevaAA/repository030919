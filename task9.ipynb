{
 "cells": [
  {
   "cell_type": "code",
   "execution_count": 4,
   "metadata": {},
   "outputs": [
    {
     "name": "stdout",
     "output_type": "stream",
     "text": [
      " Enter your guess:5\n",
      "Too big!\n",
      "Enter your guess:2\n",
      "Yes, my number was 2 , you used 2 tries\n"
     ]
    }
   ],
   "source": [
    "import random\n",
    "a = random.randint(1,10)\n",
    "i=1\n",
    "tek=int(input(\" Enter your guess:\"))\n",
    "while(tek != a):\n",
    "    if (tek > a):\n",
    "        print(\"Too big!\")\n",
    "    else:\n",
    "        print(\"Too small!\")\n",
    "    i=i+1\n",
    "    tek=int(input(\"Enter your guess:\"))\n",
    "print(\"Yes, my number was\",a,\", you used\",i,\"tries\")\n",
    "        \n",
    "\n"
   ]
  },
  {
   "cell_type": "code",
   "execution_count": null,
   "metadata": {},
   "outputs": [],
   "source": []
  }
 ],
 "metadata": {
  "kernelspec": {
   "display_name": "Python 3",
   "language": "python",
   "name": "python3"
  }
 },
 "nbformat": 4,
 "nbformat_minor": 2
}
