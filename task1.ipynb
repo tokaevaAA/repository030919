{
 "cells": [
  {
   "cell_type": "code",
   "execution_count": 12,
   "metadata": {},
   "outputs": [
    {
     "name": "stdout",
     "output_type": "stream",
     "text": [
      "Enter your name:alex\n",
      "Enter your age:19\n",
      "Enter a number:5\n",
      "Hello alex ,  you will be 100 years old in  2100 \n",
      "\n",
      "Hello alex ,  you will be 100 years old in  2100 \n",
      "\n",
      "Hello alex ,  you will be 100 years old in  2100 \n",
      "\n",
      "Hello alex ,  you will be 100 years old in  2100 \n",
      "\n",
      "Hello alex ,  you will be 100 years old in  2100 \n",
      "\n"
     ]
    }
   ],
   "source": [
    "name=input(\"Enter your name:\")\n",
    "age=int(input(\"Enter your age:\"))\n",
    "n=int(input(\"Enter a number:\"))\n",
    "\n",
    "time= 2019+(100-age)\n",
    "\n",
    "\n",
    "for i in range(0,n,1):\n",
    "    print(\"Hello\", name, \",\", \" you will be 100 years old in \", time, \"\\n\")\n",
    "    \n"
   ]
  },
  {
   "cell_type": "code",
   "execution_count": null,
   "metadata": {},
   "outputs": [],
   "source": []
  }
 ],
 "metadata": {
  "kernelspec": {
   "display_name": "Python 3",
   "language": "python",
   "name": "python3"
  },
  "language_info": {
   "codemirror_mode": {
    "name": "ipython",
    "version": 3
   },
   "file_extension": ".py",
   "mimetype": "text/x-python",
   "name": "python",
   "nbconvert_exporter": "python",
   "pygments_lexer": "ipython3",
   "version": "3.7.3"
  }
 },
 "nbformat": 4,
 "nbformat_minor": 2
}
