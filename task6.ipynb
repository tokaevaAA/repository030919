{
 "cells": [
  {
   "cell_type": "code",
   "execution_count": 5,
   "metadata": {},
   "outputs": [
    {
     "name": "stdout",
     "output_type": "stream",
     "text": [
      "Enter a string:vov\n",
      "vov is a palindrome\n"
     ]
    }
   ],
   "source": [
    "x=input(\"Enter a string:\")\n",
    "otv=1\n",
    "for i in range(0,len(x)//2,1):\n",
    "    if(x[i]!=x[len(x)-1-i]):\n",
    "        otv=0\n",
    "        break\n",
    "if(otv==0):\n",
    "    print(x,\"is not a palindrome\")\n",
    "else:\n",
    "    print(x,\"is a palindrome\")\n",
    "    "
   ]
  },
  {
   "cell_type": "code",
   "execution_count": null,
   "metadata": {},
   "outputs": [],
   "source": []
  }
 ],
 "metadata": {
  "kernelspec": {
   "display_name": "Python 3",
   "language": "python",
   "name": "python3"
  },
  "language_info": {
   "codemirror_mode": {
    "name": "ipython",
    "version": 3
   },
   "file_extension": ".py",
   "mimetype": "text/x-python",
   "name": "python",
   "nbconvert_exporter": "python",
   "pygments_lexer": "ipython3",
   "version": "3.7.3"
  }
 },
 "nbformat": 4,
 "nbformat_minor": 2
}
