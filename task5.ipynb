{
 "cells": [
  {
   "cell_type": "code",
   "execution_count": 16,
   "metadata": {},
   "outputs": [
    {
     "name": "stdout",
     "output_type": "stream",
     "text": [
      "a= 4 5 7 8 1 \n",
      "b= 4 1 8 6 4 1 2 7 4 2 \n",
      "otv= 4 7 8 1 "
     ]
    }
   ],
   "source": [
    "import random\n",
    "n1=random.randint(5,10)\n",
    "n2=random.randint(7,12)\n",
    "a=[random.randint(1,10) for i in range(n1)]\n",
    "b=[random.randint(1,10) for i in range(n2)]\n",
    "\n",
    "print(\"a=\",end=\" \")\n",
    "for i in range(0,len(a),1):\n",
    "    print(a[i],end=' ')\n",
    "print()\n",
    "print(\"b=\",end=\" \")\n",
    "for i in range(0,len(b),1):\n",
    "    print(b[i],end=' ')\n",
    "print()\n",
    "\n",
    "otv=[]\n",
    "for elem in a:\n",
    "    if((elem in b) and not( elem in otv)):\n",
    "        otv.append(elem)\n",
    "print(\"otv=\",end=\" \")\n",
    "for i in range(0,len(otv),1):\n",
    "    print(otv[i],end=' ')\n"
   ]
  },
  {
   "cell_type": "code",
   "execution_count": null,
   "metadata": {},
   "outputs": [],
   "source": []
  },
  {
   "cell_type": "code",
   "execution_count": null,
   "metadata": {},
   "outputs": [],
   "source": []
  }
 ],
 "metadata": {
  "kernelspec": {
   "display_name": "Python 3",
   "language": "python",
   "name": "python3"
  },
  "language_info": {
   "codemirror_mode": {
    "name": "ipython",
    "version": 3
   },
   "file_extension": ".py",
   "mimetype": "text/x-python",
   "name": "python",
   "nbconvert_exporter": "python",
   "pygments_lexer": "ipython3",
   "version": "3.7.3"
  }
 },
 "nbformat": 4,
 "nbformat_minor": 2
}
