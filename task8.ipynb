{
 "cells": [
  {
   "cell_type": "code",
   "execution_count": 1,
   "metadata": {},
   "outputs": [
    {
     "name": "stdout",
     "output_type": "stream",
     "text": [
      "First player round1:rock\n",
      "Second player round1:jjj\n",
      "invalid input, try again\n",
      "Second player round1:rock\n",
      "First player round2:hhh\n",
      "invalid input, try again\n",
      "First player round2:scissord\n",
      "invalid input, try again\n",
      "First player round2:scissors\n",
      "Second player round2:rock\n",
      "a=  scissors ; b=  rock\n",
      "the winner is 2: scissors < rock\n"
     ]
    }
   ],
   "source": [
    "def compare(a,b):\n",
    "    if (a==\"rock\"):\n",
    "        if (b==\"scissors\"):\n",
    "            print(\"the winner is 1: rock > scissors\")\n",
    "        else:\n",
    "            print(\"the winner is 2: rock < paper\")\n",
    "    elif (a==\"paper\"):\n",
    "        if (b==\"scissors\"):\n",
    "            print(\"the winner is 2: paper < scissors\")\n",
    "        else:\n",
    "            print(\"the winner is 1:paper > rock\")\n",
    "    elif (a==\"scissors\"):\n",
    "        if (b==\"rock\"):\n",
    "            print(\"the winner is 2: scissors < rock\")\n",
    "        else:\n",
    "            print(\"the winner is 1: scissors >paper \")\n",
    "    \n",
    "def reada(i):\n",
    "    a=input(\"First player round\"+str(i)+\":\")\n",
    "    while not(a in mas):\n",
    "        print(\"invalid input, try again\");\n",
    "        a=input(\"First player round\"+str(i)+\":\")\n",
    "    return a\n",
    "\n",
    "def readb(i):\n",
    "    b=input(\"Second player round\"+str(i)+\":\")\n",
    "    while not(b in mas):\n",
    "        print(\"invalid input, try again\");\n",
    "        b=input(\"Second player round\"+str(i)+\":\")\n",
    "    return b\n",
    "\n",
    "\n",
    "i=1;\n",
    "mas=[\"rock\",\"paper\",\"scissors\"]\n",
    "\n",
    "a=reada(i)\n",
    "b=readb(i)\n",
    "while(a==b):\n",
    "    i=i+1\n",
    "    a=reada(i)\n",
    "    b=readb(i)\n",
    "\n",
    "print(\"a= \",a,\"; b= \",b)\n",
    "compare(a,b)"
   ]
  },
  {
   "cell_type": "code",
   "execution_count": null,
   "metadata": {},
   "outputs": [],
   "source": []
  },
  {
   "cell_type": "code",
   "execution_count": null,
   "metadata": {},
   "outputs": [],
   "source": []
  },
  {
   "cell_type": "code",
   "execution_count": null,
   "metadata": {},
   "outputs": [],
   "source": [
    "\n"
   ]
  }
 ],
 "metadata": {
  "kernelspec": {
   "display_name": "Python 3",
   "language": "python",
   "name": "python3"
  },
  "language_info": {
   "codemirror_mode": {
    "name": "ipython",
    "version": 3
   },
   "file_extension": ".py",
   "mimetype": "text/x-python",
   "name": "python",
   "nbconvert_exporter": "python",
   "pygments_lexer": "ipython3",
   "version": "3.7.3"
  }
 },
 "nbformat": 4,
 "nbformat_minor": 2
}
